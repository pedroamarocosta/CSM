{
 "cells": [
  {
   "cell_type": "code",
   "execution_count": 38,
   "metadata": {},
   "outputs": [
    {
     "name": "stdout",
     "output_type": "stream",
     "text": [
      "C:\\SPB_Data\\CSM\n"
     ]
    },
    {
     "data": {
      "text/html": [
       "<iframe src=\"https://github.com/pedroamarocosta/CSM/blob/06d2defb6b87715ce430bea556e49a7e1ae9aaa5/Assignments/First%20Assignment/trab1_csm_cv2_sv1819.jpg\" width=1000 height=1000></iframe>"
      ],
      "text/plain": [
       "<IPython.core.display.HTML object>"
      ]
     },
     "execution_count": 38,
     "metadata": {},
     "output_type": "execute_result"
    }
   ],
   "source": [
    "import os\n",
    "print(os.getcwd())\n",
    "\n",
    "assignment_sheet = \"https://github.com/pedroamarocosta/CSM/blob/06d2defb6b87715ce430bea556e49a7e1ae9aaa5/Assignments/First%20Assignment/trab1_csm_cv2_sv1819.jpg\"\n",
    "from IPython.display import HTML\n",
    "HTML('<iframe src=assignment_sheet width=1000 height=1000></iframe>')\n"
   ]
  },
  {
   "cell_type": "code",
   "execution_count": null,
   "metadata": {},
   "outputs": [],
   "source": []
  }
 ],
 "metadata": {
  "kernelspec": {
   "display_name": "Python 3",
   "language": "python",
   "name": "python3"
  },
  "language_info": {
   "codemirror_mode": {
    "name": "ipython",
    "version": 3
   },
   "file_extension": ".py",
   "mimetype": "text/x-python",
   "name": "python",
   "nbconvert_exporter": "python",
   "pygments_lexer": "ipython3",
   "version": "3.7.1"
  }
 },
 "nbformat": 4,
 "nbformat_minor": 2
}
