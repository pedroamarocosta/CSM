{
 "cells": [
  {
   "cell_type": "markdown",
   "metadata": {},
   "source": [
    "## Codificação de Sinais Multimédia\n",
    ">###  Trabalho Prático 3<hr>\n",
    "> <span style=\"font-family: Helvetica; font-size: 1em;\"> 33104 Tiago Oliveira</span><br>\n",
    "> <span style=\"font-family: Helvetica; font-size: 1em;\"> 39758 André Fonseca</span><br>\n",
    "> <span style=\"font-family: Helvetica; font-size: 1em;\"> 43254 Pedro Costa</span><br><hr>\n"
   ]
  },
  {
   "cell_type": "markdown",
   "metadata": {},
   "source": [
    "<table><tr><td><img src='trab3_csm_cv2'></td></tr></table>"
   ]
  }
 ],
 "metadata": {
  "kernelspec": {
   "display_name": "Python [conda root]",
   "language": "python",
   "name": "conda-root-py"
  },
  "language_info": {
   "codemirror_mode": {
    "name": "ipython",
    "version": 3
   },
   "file_extension": ".py",
   "mimetype": "text/x-python",
   "name": "python",
   "nbconvert_exporter": "python",
   "pygments_lexer": "ipython3",
   "version": "3.6.4"
  }
 },
 "nbformat": 4,
 "nbformat_minor": 2
}
