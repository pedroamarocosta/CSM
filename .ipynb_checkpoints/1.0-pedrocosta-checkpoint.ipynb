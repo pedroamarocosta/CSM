{
 "cells": [
  {
   "cell_type": "markdown",
   "metadata": {},
   "source": [
    "\n",
    "## Codificação de Sinais Multimédia\n",
    ">###  Trabalho Prático 2<hr>\n",
    "> <span style=\"font-family: Helvetica; font-size: 1em;\"> 33104 Tiago Oliveira</span><br>\n",
    "> <span style=\"font-family: Helvetica; font-size: 1em;\"> 39758 André Fonseca</span><br>\n",
    "> <span style=\"font-family: Helvetica; font-size: 1em;\"> 43254 Pedro Costa</span><br><hr>\n"
   ]
  },
  {
   "cell_type": "markdown",
   "metadata": {},
   "source": [
    "<table><tr><td><img src='trab2_csm-1.jpg'></td><td><img src='trab2_csm-2.jpg'></td></tr></table>"
   ]
  },
  {
   "cell_type": "code",
   "execution_count": null,
   "metadata": {},
   "outputs": [],
   "source": [
    "import cv2\n",
    "import matplotlib.pyplot as plt\n",
    "import numpy as np\n",
    "import os\n",
    "import pprint\n",
    "import cv2\n",
    "import matplotlib.pyplot as plt\n",
    "import warnings\n",
    "from itertools import chain\n",
    "from os import path\n",
    "from time import time\n",
    "from os import path\n",
    "\n",
    "warnings.filterwarnings('ignore')"
   ]
  },
  {
   "cell_type": "markdown",
   "metadata": {},
   "source": [
    "<hr>\n",
    "># 1.\n",
    "\n",
    "> Elabore uma função (\"**gera_huffman**\") que gere uma tabela com o código binário para cada símbolo de um dado\n",
    "conjunto, usando o método de Huffman. Esta função deve ter como parâmetros de entrada um conjunto de\n",
    "símbolos e as suas probabilidades (ou em alternativa pode usar o número de ocorrências de cada símbolo, dado\n",
    "pelo seu histograma). Também pode em alternativa gerar não uma tabela mas outra estrutura de dados com os\n",
    "códigos pretendidos.*"
   ]
  },
  {
   "cell_type": "code",
   "execution_count": 37,
   "metadata": {
    "scrolled": false
   },
   "outputs": [],
   "source": [
    "def gera_huffman(symbols):\n",
    "    \n",
    "    symbolSet = np.unique(symbols) \n",
    "    symbolReps = np.array([np.sum(symbols == i) for i in symbolSet])\n",
    "    symbolTable = [np.empty(0, dtype=np.uint8) for i in range(len(symbolSet))]\n",
    "    indexSorted = np.argsort(symbolReps)\n",
    "    symbolIndexes = [(i,) for i in range(len(symbolReps))]\n",
    "    \n",
    "    while(len(symbolIndexes) > 1):\n",
    "\n",
    "        c0 = symbolIndexes[0]\n",
    "        c1 = symbolIndexes[1]\n",
    "        \n",
    "        symbolIndexes[1] = symbolIndexes[0] + symbolIndexes[1]\n",
    "        symbolIndexes = np.delete(symbolIndexes, 0)       \n",
    "        symbolReps[1] = symbolReps[0] + symbolReps[1]\n",
    "        symbolReps = np.delete(symbolReps, 0)\n",
    "        \n",
    "        indexSorted = np.argsort(symbolReps)\n",
    "        symbolIndexes = symbolIndexes[indexSorted]    \n",
    "        symbolReps = symbolReps[indexSorted]\n",
    "        \n",
    "        for j in range(len(c0)): symbolTable[c0[j]] = np.insert(symbolTable[c0[j]], 0, 0)    \n",
    "        for k in range(len(c1)): symbolTable[c1[k]] = np.insert(symbolTable[c1[k]], 0, 1)\n",
    "            \n",
    "    print(\"symbol = \" + str(symbol) + \"\\n\")\n",
    "    print(\"symbolIndexes = \" + str(symbolIndexes) + \"\\n\")\n",
    "    print(\"symbolReps = \" + str(symbolReps) + \"\\n\")\n",
    "    print(\"indexSorted = \" + str(indexSorted) + \"\\n\")\n",
    "    print(\"symbolSet = \" + str(symbolSet) + \"\\n\")\n",
    "    charSet = [chr(i) for i in symbolSet] \n",
    "    print(\"charSet = \" + str(charSet) + \"\\n\") \n",
    "    for l in range(len(symbolTable)): print(str(charSet[l]) + \" \" + str(symbolTable[l])) \n",
    "             \n",
    "    return symbolTable"
   ]
  },
  {
   "cell_type": "code",
   "execution_count": 16,
   "metadata": {},
   "outputs": [],
   "source": [
    "def get_dimensions(array):\n",
    "    a = [0]*len(array)\n",
    "    for i in range(len(array)):\n",
    "        a[i] = len(array[i])\n",
    "    return np.unique(a) "
   ]
  },
  {
   "cell_type": "markdown",
   "metadata": {},
   "source": [
    "<hr>\n",
    "># 2.\n",
    "\n",
    "> Elabore uma função (\"**codifica**\") que dada uma mensagem (sequência de símbolos) e a tabela da ponto anterior,\n",
    "retorne uma sequência de bits com a mensagem codificada.\n"
   ]
  },
  {
   "cell_type": "code",
   "execution_count": 17,
   "metadata": {
    "scrolled": false
   },
   "outputs": [],
   "source": [
    "def codifica(symbol, symbolTable):\n",
    "    \n",
    "    symbolSet = np.unique(symbol) \n",
    "    symbolDict = dict(zip(symbolSet, symbolTable))\n",
    "    #charSet = [chr(i) for i in symbolSet]\n",
    "    #symbolDictChar = dict(zip(charSet, symbolTable))\n",
    "    \n",
    "    dict_bin_keys = np.unpackbits(np.uint8(symbolSet))\n",
    "    \n",
    "    number_of_symbols = np.unpackbits(np.uint8(len(symbolSet)))\n",
    "    \n",
    "    dict_bin_values = np.array(0)\n",
    "    inc = 1\n",
    "    for sym in symbolSet:\n",
    "        value = symbolDict[sym]\n",
    "        read_size = len(value)\n",
    "        read_size_bin = np.unpackbits(np.uint8(read_size))\n",
    "        dict_bin_values = np.insert(dict_bin_values, inc, read_size_bin)\n",
    "        inc += 8\n",
    "        dict_bin_values = np.insert(dict_bin_values, inc, value)\n",
    "        inc += read_size\n",
    "        \n",
    "    dict_bin_values = dict_bin_values[1:]\n",
    "    \n",
    "    bitStream = np.hstack([np.vectorize(symbolDict.__getitem__)(i) for i in symbol])\n",
    "    \n",
    "    padding_size = len(bitStream) % 8\n",
    "    padding_size_bin = np.unpackbits(np.uint8(padding_size))[-3:]\n",
    "    padding = np.zeros(padding_size, dtype=int)\n",
    "    \n",
    "    bitStream = np.append(bitStream, padding)\n",
    "    \n",
    "    dict_binary = np.append(dict_bin_keys, dict_bin_values)\n",
    "    bitStream = np.append(dict_binary, bitStream)\n",
    "    bitStream = np.append(number_of_symbols, bitStream)\n",
    "    bitStream = np.append(padding_size_bin, bitStream)\n",
    "    \n",
    "    #pprint.pprint(symbolDictChar)\n",
    "    #print('\\n')\n",
    "    #pprint.pprint(symbolDict)\n",
    "    #print('\\n')\n",
    "    #print(\"symbols\")\n",
    "    #print(symbol)\n",
    "    #print('\\n')\n",
    "    #print(\"bitStream\")\n",
    "    #print(bitStream)\n",
    "    #print('\\n')\n",
    "    \n",
    "    return bitStream"
   ]
  },
  {
   "cell_type": "markdown",
   "metadata": {},
   "source": [
    "<hr>\n",
    "># 3.\n",
    "\n",
    "> Elabore uma função (\"**descodifica**\") que dada uma sequência de bits (mensagem codificada) e a tabela do ponto\n",
    "1, retorne uma sequência de símbolos (mensagem descodificada)."
   ]
  },
  {
   "cell_type": "code",
   "execution_count": 18,
   "metadata": {
    "scrolled": false
   },
   "outputs": [],
   "source": [
    "def descodifica(bitStream):\n",
    "    \n",
    "    padding = bitStream[0:3]\n",
    "    padding = np.insert(padding, 0, np.array([0,0,0,0,0]))\n",
    "    padding = np.packbits(padding)[0]\n",
    "    dict_size = np.packbits(bitStream[3:11])[0] #\n",
    "    \n",
    "    dict_keys = np.zeros(dict_size, dtype=int)\n",
    "    idx_values_start = 0\n",
    "    bitStream = bitStream[11:]\n",
    "    for i in range(dict_size):\n",
    "        dict_keys[i] = np.packbits(bitStream[(i * 8): ((i + 1) * 8)])[0]\n",
    "        idx_values_start = ((i + 1) * 8)\n",
    "    \n",
    "    bitStream = bitStream[idx_values_start:]\n",
    "    \n",
    "    dict_values = [np.empty(0, dtype=np.uint8) for i in range(dict_size)]\n",
    "        \n",
    "    nr_bits_a_ler = 0\n",
    "    for i in range(dict_size):\n",
    "        nr_bits_a_ler = np.packbits(bitStream[0:8])[0]\n",
    "        dict_values[i] = np.insert(dict_values[i], 0, bitStream[8:8 +nr_bits_a_ler])\n",
    "        bitStream = bitStream[(8 + nr_bits_a_ler):]\n",
    "        \n",
    "    bitStream = bitStream[:len(bitStream)-padding]\n",
    "    \n",
    "    symbolDecoded = np.empty(len(bitStream), dtype=np.uint8)\n",
    "    bitSequence = np.empty(len(bitStream), dtype=np.uint8)\n",
    "    min_size = min(map(len,dict_values))\n",
    "\n",
    "    dimensions = get_dimensions(dict_values)\n",
    "\n",
    "    j = 0\n",
    "    i = min_size-1\n",
    "    \n",
    "    while(len(bitStream) > 0):\n",
    "        i +=1\n",
    "        if(i in dimensions):\n",
    "            for v in range(len(dict_values)):\n",
    "                if(len(bitStream[:i]) == len(dict_values[v])):\n",
    "                    if(np.sum(bitStream[:i] ^ dict_values[v]) == 0):\n",
    "                        symbolDecoded[j] = dict_keys[v]\n",
    "                        bitStream = bitStream[i:]\n",
    "                        j += 1\n",
    "                        i = min_size-1\n",
    "                        break\n",
    "\n",
    "    symbolDecoded = symbolDecoded[:j]\n",
    "    \n",
    "    return symbolDecoded"
   ]
  },
  {
   "cell_type": "markdown",
   "metadata": {},
   "source": [
    "<hr>\n",
    "># 4.\n",
    "\n",
    "> Elabore uma função (\"**escrever**\") que dada uma sequência de bits (mensagem codificada) e o nome do ficheiro,\n",
    "escreva a sequência de bits para o ficheiro."
   ]
  },
  {
   "cell_type": "code",
   "execution_count": 19,
   "metadata": {},
   "outputs": [],
   "source": [
    "def escrever(bitStream, fileName):\n",
    "    \n",
    "    file = open(fileName, 'w')\n",
    "    for bit in bitStream:\n",
    "        file.write(str(bit))\n",
    "    file.close()"
   ]
  },
  {
   "cell_type": "markdown",
   "metadata": {},
   "source": [
    "<hr>\n",
    "># 5.\n",
    "\n",
    "> Elabore uma função (\"**ler**\") que dado o nome do ficheiro, leia uma sequência de bits (mensagem codificada)\n",
    "contida no ficheiro."
   ]
  },
  {
   "cell_type": "code",
   "execution_count": 20,
   "metadata": {
    "scrolled": true
   },
   "outputs": [],
   "source": [
    "def ler(fileName):\n",
    "\n",
    "    dataStream = []\n",
    "    with open(fileName) as fileobj:\n",
    "        for line in fileobj:\n",
    "            dataStream = np.fromstring(line,'u1') - ord('0')\n",
    "    return dataStream"
   ]
  },
  {
   "cell_type": "markdown",
   "metadata": {},
   "source": [
    "<hr>\n",
    "># 6.\n",
    "\n",
    "> Teste as funções elaboradas usando para o efeito vários ficheiros com diferentes tipos de média:\n",
    ">\n",
    ">  <span style=\"font-family: Helvetica; font-size: 1em;\">IMAGEM</span>\n",
    ">    : Use para o efeito a imagem “Lena.tif” em tons de cinzento.  \n",
    ">  <span style=\"font-family: Helvetica; font-size: 1em;\">TEXTO</span>\n",
    ">    : Use os ficheiros “ubuntu_server_guide.pdf” e “ubuntu_server_guide.txt”.  \n",
    ">  <span style=\"font-family: Helvetica; font-size: 1em;\">ÁUDIO</span>\n",
    ">    : Use o ficheiro “HenryMancini-PinkPanther30s.mp3”.  \n",
    ">  <span style=\"font-family: Helvetica; font-size: 1em;\">MIDI</span>\n",
    ">    : Use o ficheiro “HenryMancini-PinkPanther.mid”.  \n",
    ">  <span style=\"font-family: Helvetica; font-size: 1em;\">ECG</span>\n",
    ">   : Eletrocardiograma - use o ficheiro “ecg.txt”.  \n"
   ]
  },
  {
   "cell_type": "markdown",
   "metadata": {},
   "source": [
    ">## a) \n",
    "\n",
    "> Gere o código usando a função realizada no ponto 1. Meça o tempo que demora a função"
   ]
  },
  {
   "cell_type": "code",
   "execution_count": 38,
   "metadata": {
    "scrolled": false
   },
   "outputs": [
    {
     "name": "stdout",
     "output_type": "stream",
     "text": [
      "symbol = [ 85  98 117 ...  49  49  10]\n",
      "\n",
      "symbolIndexes = [(73, 34, 56, 91, 41, 93, 29, 65, 95, 100, 101, 102, 63, 7, 6, 14, 72, 66, 80, 69, 23, 96, 89, 103, 57, 75, 4, 45, 21, 19, 47, 82, 44, 40, 52, 53, 0, 1, 68, 77, 85, 71, 46, 22, 24, 58, 5, 50, 10, 9, 20, 26, 8, 30, 31, 94, 60, 51, 15, 88, 16, 18, 59, 12, 92, 62, 39, 64, 87, 78, 36, 37, 27, 17, 3, 54, 42, 70, 81, 13, 38, 28, 97, 98, 33, 11, 61, 2, 32, 43, 99, 48, 67, 83, 76, 49, 25, 35, 55, 90, 86, 84, 79, 74)]\n",
      "\n",
      "symbolReps = [763396]\n",
      "\n",
      "indexSorted = [0]\n",
      "\n",
      "symbolSet = [ 10  32  33  34  35  36  37  38  39  40  41  42  43  44  45  46  47  48\n",
      "  49  50  51  52  53  54  55  56  57  58  59  60  61  62  63  64  65  66\n",
      "  67  68  69  70  71  72  73  74  75  76  77  78  79  80  81  82  83  84\n",
      "  85  86  87  88  89  90  91  92  93  94  95  96  97  98  99 100 101 102\n",
      " 103 104 105 106 107 108 109 110 111 112 113 114 115 116 117 118 119 120\n",
      " 121 122 123 124 125 126 128 156 157 162 169 174 194 226]\n",
      "\n",
      "charSet = ['\\n', ' ', '!', '\"', '#', '$', '%', '&', \"'\", '(', ')', '*', '+', ',', '-', '.', '/', '0', '1', '2', '3', '4', '5', '6', '7', '8', '9', ':', ';', '<', '=', '>', '?', '@', 'A', 'B', 'C', 'D', 'E', 'F', 'G', 'H', 'I', 'J', 'K', 'L', 'M', 'N', 'O', 'P', 'Q', 'R', 'S', 'T', 'U', 'V', 'W', 'X', 'Y', 'Z', '[', '\\\\', ']', '^', '_', '`', 'a', 'b', 'c', 'd', 'e', 'f', 'g', 'h', 'i', 'j', 'k', 'l', 'm', 'n', 'o', 'p', 'q', 'r', 's', 't', 'u', 'v', 'w', 'x', 'y', 'z', '{', '|', '}', '~', '\\x80', '\\x9c', '\\x9d', '¢', '©', '®', 'Â', 'â']\n",
      "\n",
      "\n",
      " [0 1 0]\n",
      "  [0 1 1]\n",
      "! [1 1 0 1 0 1 0 1 0 1 1 1 1 0 0]\n",
      "\" [1 0 1 1 1 1 1 1 0 0]\n",
      "# [0 0 1 1 1 0 1 0 1 1]\n",
      "$ [1 0 1 0 0 1 0 1 0 1 1 0]\n",
      "% [0 0 0 0 1 0 0 1 1 1 1 1 1 1]\n",
      "& [0 0 0 0 1 0 0 1 1 1 1 1 1 0 1]\n",
      "' [1 0 1 0 0 1 1 0 1 1]\n",
      "( [1 0 1 0 0 1 0 1 1 1]\n",
      ") [1 0 1 0 0 1 0 1 1 0]\n",
      "* [1 1 0 1 0 1 0 1 0 1 1 0 1]\n",
      "+ [1 0 1 1 0 1 0 1 0 0 0 0 1]\n",
      ", [1 1 0 1 0 1 0 0]\n",
      "- [0 0 0 0 1 0 1]\n",
      ". [1 0 1 0 1]\n",
      "/ [1 0 1 1 0 0 1]\n",
      "0 [1 0 1 1 1 1 1 0]\n",
      "1 [1 0 1 1 0 1 0 0]\n",
      "2 [0 0 1 1 1 1 0 0]\n",
      "3 [1 0 1 0 0 1 1 0 0]\n",
      "4 [0 0 1 1 1 0 1 1 1]\n",
      "5 [1 0 1 0 0 1 0 0 1]\n",
      "6 [0 0 1 1 1 0 0 0 0]\n",
      "7 [1 0 1 0 0 1 0 1 0 0]\n",
      "8 [1 1 1 0 0 0 0 1 1 0]\n",
      "9 [1 0 1 0 0 1 1 0 1 0]\n",
      ": [1 0 1 1 1 1 0 1]\n",
      "; [1 1 0 1 0 1 0 1 0 1 0 0]\n",
      "< [0 0 0 0 1 0 0 1 1 1 1 0]\n",
      "= [1 0 1 0 0 1 1 1 0]\n",
      "> [1 0 1 0 0 1 1 1 1 0 0 0]\n",
      "? [1 1 0 1 0 1 0 1 0 1 1 1 1 0 1]\n",
      "@ [1 1 0 1 0 1 0 1 0 1 1 0 0]\n",
      "A [0 0 0 0 1 0 0 0]\n",
      "B [1 1 1 0 0 0 0 1 1 1 0]\n",
      "C [1 0 1 1 1 1 0 0 0]\n",
      "D [1 0 1 1 1 1 0 0 1]\n",
      "E [1 1 0 1 0 1 0 1 0 0]\n",
      "F [1 0 1 1 0 1 0 1 0 1]\n",
      "G [0 0 1 1 1 1 0 1 1 1 1]\n",
      "H [0 0 0 0 1 0 0 1 1 0]\n",
      "I [1 0 1 1 1 1 1 1 1]\n",
      "J [1 1 0 1 0 1 0 1 0 1 1 1 1 1]\n",
      "K [0 0 1 1 1 1 0 1 1 1 0]\n",
      "L [0 0 1 1 1 0 1 1 0]\n",
      "M [1 0 1 0 0 1 0 0 0]\n",
      "N [0 0 1 1 1 1 0 1 0]\n",
      "O [1 1 0 1 0 1 0 1 1 1]\n",
      "P [1 1 1 0 0 0 0 1 0]\n",
      "Q [1 0 1 0 0 1 0 1 0 1 1 1]\n",
      "R [1 0 1 0 0 1 1 1 1 1]\n",
      "S [0 0 1 1 1 1 1 0]\n",
      "T [0 0 1 1 1 1 1 1]\n",
      "U [1 0 1 1 1 1 1 1 0 1]\n",
      "V [1 1 1 0 0 0 0 1 1 1 1]\n",
      "W [0 0 0 0 1 0 0 1 0 0]\n",
      "X [0 0 1 1 1 0 1 0 1 0 0]\n",
      "Y [1 0 1 0 0 1 0 1 0 1 0]\n",
      "Z [1 0 1 1 0 1 0 1 0 0 0 0 0]\n",
      "[ [1 0 1 0 0 1 1 1 1 0 1]\n",
      "\\ [1 1 0 1 0 1 0 1 0 1 1 1 0]\n",
      "] [1 0 1 1 0 1 0 1 0 0 1]\n",
      "^ [0 0 0 0 1 0 0 1 1 1 1 1 1 0 0 1]\n",
      "_ [1 0 1 1 0 1 0 1 1]\n",
      "` [0 0 0 0 1 0 0 1 1 1 1 1 0 0]\n",
      "a [0 0 0 1]\n",
      "b [1 1 0 1 0 1 1]\n",
      "c [1 0 0 0 0]\n",
      "d [0 0 1 1 0]\n",
      "e [1 1 0 0]\n",
      "f [1 0 1 0 0 0]\n",
      "g [0 0 0 0 1 1]\n",
      "h [0 0 0 0 0]\n",
      "i [1 1 1 1 1]\n",
      "j [0 0 1 1 1 0 1 0 1 0 1]\n",
      "k [1 1 1 0 0 0 0 0]\n",
      "l [1 0 0 0 1]\n",
      "m [1 0 1 1 1 0]\n",
      "n [1 1 1 1 0]\n",
      "o [0 0 1 0]\n",
      "p [1 1 0 1 0 0]\n",
      "q [0 0 1 1 1 1 0 1 1 0]\n",
      "r [1 1 0 1 1]\n",
      "s [1 1 1 0 1]\n",
      "t [1 0 0 1]\n",
      "u [1 1 1 0 0 1]\n",
      "v [1 0 1 1 0 1 1]\n",
      "w [1 0 1 1 0 0 0]\n",
      "x [0 0 1 1 1 0 0 1]\n",
      "y [1 1 1 0 0 0 1]\n",
      "z [0 0 0 0 1 0 0 1 0 1]\n",
      "{ [1 0 1 1 0 1 0 1 0 0 0 1]\n",
      "| [0 0 0 0 1 0 0 1 1 1 0]\n",
      "} [1 0 1 0 0 1 1 1 1 0 0 1]\n",
      "~ [0 0 0 0 1 0 0 1 1 1 1 1 0 1]\n",
      " [0 0 1 1 1 0 0 0 1]\n",
      " [1 1 0 1 0 1 0 1 0 1 0 1 0]\n",
      " [1 1 0 1 0 1 0 1 0 1 0 1 1]\n",
      "¢ [1 1 0 1 0 1 0 1 1 0]\n",
      "© [0 0 0 0 1 0 0 1 1 1 1 1 1 0 0 0 0 0]\n",
      "® [0 0 0 0 1 0 0 1 1 1 1 1 1 0 0 0 0 1]\n",
      "Â [0 0 0 0 1 0 0 1 1 1 1 1 1 0 0 0 1]\n",
      "â [0 0 1 1 1 0 1 0 0]\n",
      "Huffman Encoding Time: 0.16 seconds\n"
     ]
    }
   ],
   "source": [
    "def huffman_from_file(textMode=True):\n",
    "    \n",
    "    if textMode: #Text\n",
    "        input_file = 'ubuntu_server_guide.txt'\n",
    "        #input_file = 'iliad.txt'\n",
    "        #input_file = 'ecg.txt'\n",
    "        #input_file = 'helloworld.txt'\n",
    "        \n",
    "        symbol = np.fromfile(input_file, 'uint8')\n",
    "        symbolSet = np.unique(symbol)\n",
    "        symbolReps = np.array([np.sum(symbol==i) for i in symbolSet])\n",
    "        t0 = time()\n",
    "        symbolTable = gera_huffman(symbol)\n",
    "        t1 = time()\n",
    "        \n",
    "    else: #Image\n",
    "        #input_file = 'LenaSMALL.tif'\n",
    "        input_file = 'LenaMEDIUM.tif'\n",
    "        #input_file = 'Lena.tif'\n",
    "        \n",
    "        # Lê a imagem em níveis de cinzento\n",
    "        plt.figure(figsize=(5,5))\n",
    "        x = cv2.imread(input_file, cv2.IMREAD_GRAYSCALE)\n",
    "        plt.imshow(x, cmap='gray')\n",
    "        plt.show()\n",
    "        # Converte a imagem (matriz) numa sequência de números (array)\n",
    "        symbol = x.ravel()\n",
    "        # Calcula o histogram\n",
    "        h, bins, patches = plt.hist(symbol,256,[0,256])\n",
    "        # Gera o código de Huffman\n",
    "        t0 = time()\n",
    "        symbolTable = gera_huffman(symbol)\n",
    "        t1 = time()\n",
    "        \n",
    "    print(\"Huffman Encoding Time: \" + str(round(t1-t0,2)) + \" seconds\")\n",
    "    return symbol, symbolTable, input_file\n",
    "\n",
    "symbol, symbolTable, input_file = huffman_from_file(True)"
   ]
  },
  {
   "cell_type": "markdown",
   "metadata": {},
   "source": [
    "<hr>\n",
    ">## b) \n",
    "\n",
    "> Meça a entropia e o número médio de bits por símbolo. Calcule a eficiência."
   ]
  },
  {
   "cell_type": "code",
   "execution_count": 35,
   "metadata": {
    "scrolled": false
   },
   "outputs": [
    {
     "name": "stdout",
     "output_type": "stream",
     "text": [
      "Entropy Level: 2.845 bit/symbol\n",
      "Average Information: 3.125 bits/symbol\n",
      "Efficiency Level: 0.91\n"
     ]
    }
   ],
   "source": [
    "def measure_entropy(symbolData):\n",
    "    symbolSet = np.unique(symbolData)\n",
    "    symbolReps = np.array([np.sum(symbolData==i) for i in symbolSet])\n",
    "    symbolProb = np.hstack(np.array([symbolReps/len(symbolData)]))\n",
    "    H = [np.sum(symbolProb[i] * np.log2(1.0/symbolProb[i]) for i in range(len(symbolProb)))][0]\n",
    "    print(\"Entropy Level: \" + str(round((H), 3)) + \" bit/symbol\")\n",
    "    return H\n",
    "\n",
    "def bits_per_symbol(symbolTable):\n",
    "    bit = [0]*len(symbolTable)\n",
    "    for i in range(len(symbolTable)): bit[i] = len(symbolTable[i])\n",
    "    L = np.sum(bit)/len(bit)\n",
    "    print(\"Average Information: \" + str(round(L, 3)) + \" bits/symbol\")\n",
    "    return L   \n",
    "\n",
    "def measure_efficiency(H, L):\n",
    "    n = H/L\n",
    "    print(\"Efficiency Level: \" + str(round(n, 2)))\n",
    "    \n",
    "H = measure_entropy(symbol)\n",
    "L = bits_per_symbol(symbolTable)\n",
    "measure_efficiency(H, L)"
   ]
  },
  {
   "cell_type": "markdown",
   "metadata": {},
   "source": [
    "<hr>\n",
    ">## c) \n",
    "\n",
    "> Faça a codificação da mensagem contida no ficheiro (usando a função realizada no ponto 2). Meça o tempo\n",
    "que a função demora a fazer a codificação"
   ]
  },
  {
   "cell_type": "code",
   "execution_count": 23,
   "metadata": {},
   "outputs": [
    {
     "name": "stdout",
     "output_type": "stream",
     "text": [
      "Bit Stream Encoding Time: 1.55 seconds\n"
     ]
    }
   ],
   "source": [
    "def huffman_to_bit(symbol, symbolTable):\n",
    "    t2 = time()\n",
    "    bitStream = codifica(symbol, symbolTable)\n",
    "    t3 = time()\n",
    "    print(\"Bit Stream Encoding Time: \" + str(round(t3-t2,2)) + \" seconds\")\n",
    "    return bitStream\n",
    "\n",
    "bitStream = huffman_to_bit(symbol, symbolTable)"
   ]
  },
  {
   "cell_type": "markdown",
   "metadata": {},
   "source": [
    "<hr>\n",
    ">## d) \n",
    "\n",
    "> Grave um ficheiro com a mensagem codificada, usando a função realizada no ponto 4. Veja o tamanho do\n",
    "ficheiro."
   ]
  },
  {
   "cell_type": "code",
   "execution_count": 24,
   "metadata": {},
   "outputs": [
    {
     "name": "stdout",
     "output_type": "stream",
     "text": [
      "File Writting Time: 0.63 seconds\n"
     ]
    }
   ],
   "source": [
    "def bit_to_file(bitStream, output_file):    \n",
    "    t6 = time()\n",
    "    escrever(bitStream, output_file)\n",
    "    t7 = time()\n",
    "    print(\"File Writting Time: \" + str(round(t7-t6,2)) + \" seconds\")\n",
    "\n",
    "output_file = \"test.txt\"\n",
    "bit_to_file(bitStream, output_file)"
   ]
  },
  {
   "cell_type": "markdown",
   "metadata": {},
   "source": [
    "<hr>\n",
    ">## e) \n",
    "\n",
    "> Leia do ficheiro o conjunto de bits, usando a função realizada no ponto 5."
   ]
  },
  {
   "cell_type": "code",
   "execution_count": 25,
   "metadata": {},
   "outputs": [
    {
     "name": "stdout",
     "output_type": "stream",
     "text": [
      "File Reading Time: 0.01 seconds\n"
     ]
    }
   ],
   "source": [
    "def file_to_bit(output_file):\n",
    "    t8 = time()\n",
    "    receivedStream = ler(output_file)\n",
    "    t9 = time()\n",
    "    print(\"File Reading Time: \" + str(round(t9-t8,2)) + \" seconds\")\n",
    "    return receivedStream, output_file\n",
    "\n",
    "receivedStream, output_file = file_to_bit(output_file)\n"
   ]
  },
  {
   "cell_type": "markdown",
   "metadata": {},
   "source": [
    "<hr>\n",
    ">## f) \n",
    "\n",
    "> Faça a descodificação da mensagem (usando a função realizada no ponto 3.) Meça o tempo que a função\n",
    "demora a fazer a descodificação.\n",
    "\n"
   ]
  },
  {
   "cell_type": "code",
   "execution_count": 26,
   "metadata": {},
   "outputs": [
    {
     "data": {
      "image/png": "[encoded data removed]",
      "text/plain": [
       "<matplotlib.figure.Figure at 0x1f72802c198>"
      ]
     },
     "metadata": {},
     "output_type": "display_data"
    },
    {
     "name": "stdout",
     "output_type": "stream",
     "text": [
      "Bit Stream Decoding Time: 44.5 seconds\n"
     ]
    }
   ],
   "source": [
    "def decode_from_bit(receivedStream, textMode=True):\n",
    "    if(textMode):\n",
    "        t4 = time()\n",
    "        symbolDecoded = descodifica(receivedStream)\n",
    "        t5 = time()\n",
    "    else:\n",
    "        t4 = time()\n",
    "        symbolDecoded = descodifica(receivedStream)\n",
    "        t5 = time()\n",
    "        plt.figure(figsize=(5,5))\n",
    "        imageDecoded = np.reshape(symbolDecoded, (256, 256))\n",
    "        plt.imshow(imageDecoded, cmap='gray')\n",
    "        plt.show()\n",
    "        \n",
    "    print(\"Bit Stream Decoding Time: \" + str(round(t5-t4,2)) + \" seconds\")\n",
    "    return symbolDecoded, imageDecoded\n",
    "\n",
    "symbolDecoded, imageDecoded = decode_from_bit(receivedStream, False)"
   ]
  },
  {
   "cell_type": "markdown",
   "metadata": {},
   "source": [
    "<hr>\n",
    ">## g) \n",
    "\n",
    "> Compare a mensagem descodificada com a original e verifique que são iguais (erro nulo)"
   ]
  },
  {
   "cell_type": "code",
   "execution_count": null,
   "metadata": {},
   "outputs": [],
   "source": [
    "def check_errors(x, y):\n",
    "    error = ((x - y) != 0).any()\n",
    "    if(error): print(\"Error Detected!\")\n",
    "    else: print(\"No Error Detected! Lossless Compression.\")\n",
    "        \n",
    "def measure_rate(input_file, output_file):\n",
    "    size_ini = path.getsize(input_file)\n",
    "    size_end = path.getsize(output_file)\n",
    "    print(\"Original Size: \" + str(size_ini/1000) + \" Kb\")\n",
    "    print(\"Compressed Size: \" + str(size_end/1000) + \" Kb\")\n",
    "    print(\"Compression Rate: \" + str(round( 1.* size_ini / size_end, 2)))\n",
    "\n",
    "measure_rate(input_file, output_file)\n",
    "check_errors(symbol, symbolDecoded)"
   ]
  },
  {
   "cell_type": "code",
   "execution_count": null,
   "metadata": {},
   "outputs": [],
   "source": []
  }
 ],
 "metadata": {
  "kernelspec": {
   "display_name": "Python 3",
   "language": "python",
   "name": "python3"
  },
  "language_info": {
   "codemirror_mode": {
    "name": "ipython",
    "version": 3
   },
   "file_extension": ".py",
   "mimetype": "text/x-python",
   "name": "python",
   "nbconvert_exporter": "python",
   "pygments_lexer": "ipython3",
   "version": "3.7.1"
  }
 },
 "nbformat": 4,
 "nbformat_minor": 2
}
